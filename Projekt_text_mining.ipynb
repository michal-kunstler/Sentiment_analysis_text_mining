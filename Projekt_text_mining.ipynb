{
 "cells": [
  {
   "cell_type": "code",
   "execution_count": 26,
   "id": "9d8defee",
   "metadata": {},
   "outputs": [
    {
     "name": "stderr",
     "output_type": "stream",
     "text": [
      "[nltk_data] Downloading package vader_lexicon to\n",
      "[nltk_data]     /Users/mkunstler/nltk_data...\n",
      "[nltk_data]   Package vader_lexicon is already up-to-date!\n"
     ]
    }
   ],
   "source": [
    "import pandas as pd \n",
    "import numpy as np \n",
    "%matplotlib inline \n",
    "\n",
    "import nltk\n",
    "nltk.download('vader_lexicon')\n",
    "from nltk.sentiment.vader import SentimentIntensityAnalyzer\n",
    "\n",
    "analyser = SentimentIntensityAnalyzer()"
   ]
  },
  {
   "cell_type": "code",
   "execution_count": 27,
   "id": "f5840b33",
   "metadata": {},
   "outputs": [
    {
     "data": {
      "text/plain": [
       "434891"
      ]
     },
     "execution_count": 27,
     "metadata": {},
     "output_type": "execute_result"
    }
   ],
   "source": [
    "reviews_full = pd.read_csv('steam_reviews.csv')\n",
    "len(reviews_full)"
   ]
  },
  {
   "cell_type": "markdown",
   "id": "8cf2d06d",
   "metadata": {},
   "source": [
    "Thats a lot of observations, for computational purposes we will limit ourselves to 50k observations which should be plenty enough to produce a descent model."
   ]
  },
  {
   "cell_type": "code",
   "execution_count": 28,
   "id": "c00173dd",
   "metadata": {},
   "outputs": [],
   "source": [
    "reviews = reviews_full.sample(50000)"
   ]
  },
  {
   "cell_type": "code",
   "execution_count": 29,
   "id": "979da54c",
   "metadata": {},
   "outputs": [
    {
     "data": {
      "text/html": [
       "<div>\n",
       "<style scoped>\n",
       "    .dataframe tbody tr th:only-of-type {\n",
       "        vertical-align: middle;\n",
       "    }\n",
       "\n",
       "    .dataframe tbody tr th {\n",
       "        vertical-align: top;\n",
       "    }\n",
       "\n",
       "    .dataframe thead th {\n",
       "        text-align: right;\n",
       "    }\n",
       "</style>\n",
       "<table border=\"1\" class=\"dataframe\">\n",
       "  <thead>\n",
       "    <tr style=\"text-align: right;\">\n",
       "      <th></th>\n",
       "      <th>date_posted</th>\n",
       "      <th>funny</th>\n",
       "      <th>helpful</th>\n",
       "      <th>hour_played</th>\n",
       "      <th>is_early_access_review</th>\n",
       "      <th>recommendation</th>\n",
       "      <th>review</th>\n",
       "      <th>title</th>\n",
       "    </tr>\n",
       "  </thead>\n",
       "  <tbody>\n",
       "    <tr>\n",
       "      <th>155631</th>\n",
       "      <td>2015-04-16</td>\n",
       "      <td>0</td>\n",
       "      <td>0</td>\n",
       "      <td>1</td>\n",
       "      <td>False</td>\n",
       "      <td>Not Recommended</td>\n",
       "      <td>A social club account just to play a game ? F ...</td>\n",
       "      <td>Grand Theft Auto V</td>\n",
       "    </tr>\n",
       "    <tr>\n",
       "      <th>105047</th>\n",
       "      <td>2018-11-21</td>\n",
       "      <td>0</td>\n",
       "      <td>0</td>\n",
       "      <td>1278</td>\n",
       "      <td>False</td>\n",
       "      <td>Recommended</td>\n",
       "      <td>It's pretty good.</td>\n",
       "      <td>Rocket League®</td>\n",
       "    </tr>\n",
       "    <tr>\n",
       "      <th>82862</th>\n",
       "      <td>2017-07-15</td>\n",
       "      <td>0</td>\n",
       "      <td>0</td>\n",
       "      <td>173</td>\n",
       "      <td>False</td>\n",
       "      <td>Recommended</td>\n",
       "      <td>i love this game</td>\n",
       "      <td>Rocket League®</td>\n",
       "    </tr>\n",
       "    <tr>\n",
       "      <th>422529</th>\n",
       "      <td>2016-04-29</td>\n",
       "      <td>0</td>\n",
       "      <td>0</td>\n",
       "      <td>46</td>\n",
       "      <td>True</td>\n",
       "      <td>Recommended</td>\n",
       "      <td>1 Buy Rust.2 Install Rust.3 Load rust.4 Spawn ...</td>\n",
       "      <td>Rust</td>\n",
       "    </tr>\n",
       "    <tr>\n",
       "      <th>11232</th>\n",
       "      <td>2016-09-03</td>\n",
       "      <td>0</td>\n",
       "      <td>0</td>\n",
       "      <td>109</td>\n",
       "      <td>False</td>\n",
       "      <td>Recommended</td>\n",
       "      <td>This is a really great horror game ever. Just ...</td>\n",
       "      <td>Dead by Daylight</td>\n",
       "    </tr>\n",
       "  </tbody>\n",
       "</table>\n",
       "</div>"
      ],
      "text/plain": [
       "       date_posted  funny  helpful  hour_played  is_early_access_review  \\\n",
       "155631  2015-04-16      0        0            1                   False   \n",
       "105047  2018-11-21      0        0         1278                   False   \n",
       "82862   2017-07-15      0        0          173                   False   \n",
       "422529  2016-04-29      0        0           46                    True   \n",
       "11232   2016-09-03      0        0          109                   False   \n",
       "\n",
       "         recommendation                                             review  \\\n",
       "155631  Not Recommended  A social club account just to play a game ? F ...   \n",
       "105047      Recommended                                  It's pretty good.   \n",
       "82862       Recommended                                   i love this game   \n",
       "422529      Recommended  1 Buy Rust.2 Install Rust.3 Load rust.4 Spawn ...   \n",
       "11232       Recommended  This is a really great horror game ever. Just ...   \n",
       "\n",
       "                     title  \n",
       "155631  Grand Theft Auto V  \n",
       "105047      Rocket League®  \n",
       "82862       Rocket League®  \n",
       "422529                Rust  \n",
       "11232     Dead by Daylight  "
      ]
     },
     "execution_count": 29,
     "metadata": {},
     "output_type": "execute_result"
    }
   ],
   "source": [
    "reviews.head()"
   ]
  },
  {
   "cell_type": "code",
   "execution_count": 30,
   "id": "30c31422",
   "metadata": {},
   "outputs": [
    {
     "data": {
      "text/plain": [
       "<AxesSubplot:xlabel='title'>"
      ]
     },
     "execution_count": 30,
     "metadata": {},
     "output_type": "execute_result"
    },
    {
     "data": {
      "image/png": "[encoded data removed]",
      "text/plain": [
       "<Figure size 792x360 with 1 Axes>"
      ]
     },
     "metadata": {
      "needs_background": "light"
     },
     "output_type": "display_data"
    }
   ],
   "source": [
    "reviews.groupby(['title', 'recommendation']).size().unstack().plot(kind='bar',figsize=(11, 5))"
   ]
  },
  {
   "cell_type": "markdown",
   "id": "3945b7c2",
   "metadata": {},
   "source": [
    "maybe lets also limit ourselves to the 5 most popular games, both for clarity of the resulting plots, and for the model to be more specialized and therefore more reliable."
   ]
  },
  {
   "cell_type": "code",
   "execution_count": 31,
   "id": "e25fb3de",
   "metadata": {},
   "outputs": [],
   "source": [
    "# extracting the 5 most reviewed games from the dataframe\n",
    "most_popular_games = reviews.groupby('title').count().sort_values('review').tail(5).index.tolist()\n",
    "\n",
    "#limiting the dataframe to these games\n",
    "reviews_orig = reviews.copy()\n",
    "reviews = reviews.query('title.isin(@most_popular_games)')"
   ]
  },
  {
   "cell_type": "code",
   "execution_count": 33,
   "id": "0b83d93c",
   "metadata": {},
   "outputs": [
    {
     "data": {
      "text/plain": [
       "<AxesSubplot:xlabel='title'>"
      ]
     },
     "execution_count": 33,
     "metadata": {},
     "output_type": "execute_result"
    },
    {
     "data": {
      "image/png": "[encoded data removed]",
      "text/plain": [
       "<Figure size 792x360 with 1 Axes>"
      ]
     },
     "metadata": {
      "needs_background": "light"
     },
     "output_type": "display_data"
    }
   ],
   "source": [
    "reviews.groupby(['title', 'recommendation']).size().unstack().plot(kind='bar',figsize=(11, 5))"
   ]
  },
  {
   "cell_type": "code",
   "execution_count": 34,
   "id": "b4d84446",
   "metadata": {},
   "outputs": [],
   "source": [
    "# move to sentiment analysis\n",
    "def print_sentiment_scores(review):\n",
    "    snt = analyser.polarity_scores(review)  #call the polarity analyzer\n",
    "    print(\"{:-<40} {}\".format(review, str(snt)))"
   ]
  },
  {
   "cell_type": "code",
   "execution_count": 35,
   "id": "3eaa0da3",
   "metadata": {},
   "outputs": [
    {
     "name": "stdout",
     "output_type": "stream",
     "text": [
      "Terrible controlls, unbearable graphics, hate the story, 10/10 would recommend {'neg': 0.417, 'neu': 0.429, 'pos': 0.153, 'compound': -0.6486}\n"
     ]
    }
   ],
   "source": [
    "# Testing for a popular ironic review formula\n",
    "print_sentiment_scores(\"Terrible controlls, unbearable graphics, hate the story, 10/10 would recommend\")"
   ]
  },
  {
   "cell_type": "markdown",
   "id": "9a615327",
   "metadata": {},
   "source": [
    "As we expected, this is a problem for the model, as the review like this would most likely be positive. To combat this, we will blanketly give every review with a \"10/10\" in it a positive score."
   ]
  },
  {
   "cell_type": "code",
   "execution_count": 36,
   "id": "e2fe5286",
   "metadata": {},
   "outputs": [
    {
     "data": {
      "text/plain": [
       "1.0    2027\n",
       "Name: positive_flag, dtype: int64"
      ]
     },
     "execution_count": 36,
     "metadata": {},
     "output_type": "execute_result"
    }
   ],
   "source": [
    "reviews.loc[reviews['review'].str.match(\".*10/10.*\", na=False), 'positive_flag'] = 1\n",
    "\n",
    "reviews[\"positive_flag\"].value_counts()"
   ]
  },
  {
   "cell_type": "markdown",
   "id": "b1d00a9b",
   "metadata": {},
   "source": [
    "There are 2026 observation with 10/10 in them. Just to further show the utility of such approach, we will also assign a positive score for each review starting with the word \"Awsome\", no mather if it is in upper or lower case."
   ]
  },
  {
   "cell_type": "code",
   "execution_count": 37,
   "id": "229cbac4",
   "metadata": {},
   "outputs": [
    {
     "data": {
      "text/plain": [
       "1.0    2071\n",
       "Name: positive_flag, dtype: int64"
      ]
     },
     "execution_count": 37,
     "metadata": {},
     "output_type": "execute_result"
    }
   ],
   "source": [
    "reviews.loc[reviews['review'].str.match(\"[Aa][Ww][Ss][Oo][Mm][Ee].*\", na=False), 'positive_flag'] = 1\n",
    "\n",
    "reviews[\"positive_flag\"].value_counts()"
   ]
  },
  {
   "cell_type": "markdown",
   "id": "e9135a73",
   "metadata": {},
   "source": [
    "there are additional 46 reviews with a positive score assigned. Lets check what is the distribution of the label in these reviews."
   ]
  },
  {
   "cell_type": "code",
   "execution_count": 38,
   "id": "b46a9121",
   "metadata": {},
   "outputs": [
    {
     "data": {
      "text/plain": [
       "Recommended        1957\n",
       "Not Recommended     114\n",
       "Name: recommendation, dtype: int64"
      ]
     },
     "execution_count": 38,
     "metadata": {},
     "output_type": "execute_result"
    }
   ],
   "source": [
    "reviews.query('positive_flag == 1')['recommendation'].value_counts()"
   ]
  },
  {
   "cell_type": "code",
   "execution_count": 39,
   "id": "118a32ce",
   "metadata": {},
   "outputs": [
    {
     "data": {
      "text/plain": [
       "0.9416023166023166"
      ]
     },
     "execution_count": 39,
     "metadata": {},
     "output_type": "execute_result"
    }
   ],
   "source": [
    "1951/2072"
   ]
  },
  {
   "cell_type": "code",
   "execution_count": 64,
   "id": "a92c9600",
   "metadata": {},
   "outputs": [],
   "source": [
    "reviews[\"positive_flag\"].fillna(0, inplace = True)"
   ]
  },
  {
   "cell_type": "markdown",
   "id": "0426653e",
   "metadata": {},
   "source": [
    "Forcing these labels would result in a 94% accuracy for these observations, so it is most likely a good idea to do that. After predicting the label using VADER score we will come back to this flag, to check wether it would imporove or decrease the total accuracy of its prediction."
   ]
  },
  {
   "cell_type": "code",
   "execution_count": 66,
   "id": "888212d5",
   "metadata": {},
   "outputs": [
    {
     "name": "stdout",
     "output_type": "stream",
     "text": [
      "n obs before removing NAs: 46686\n",
      "n obs after removing NAs: 46503\n",
      "CPU times: user 1 µs, sys: 0 ns, total: 1 µs\n",
      "Wall time: 2.62 µs\n"
     ]
    },
    {
     "name": "stderr",
     "output_type": "stream",
     "text": [
      "/var/folders/dc/k7crvlf16t786rmzsdp6xqs00000gn/T/ipykernel_8219/697748449.py:6: SettingWithCopyWarning: \n",
      "A value is trying to be set on a copy of a slice from a DataFrame.\n",
      "Try using .loc[row_indexer,col_indexer] = value instead\n",
      "\n",
      "See the caveats in the documentation: https://pandas.pydata.org/pandas-docs/stable/user_guide/indexing.html#returning-a-view-versus-a-copy\n",
      "  reviews_1['review'] = reviews_1['review'].apply(lambda review:str(review))\n"
     ]
    },
    {
     "data": {
      "text/plain": [
       "46503"
      ]
     },
     "execution_count": 66,
     "metadata": {},
     "output_type": "execute_result"
    }
   ],
   "source": [
    "#removing observations with missing values\n",
    "print('n obs before removing NAs: ' + str(len(reviews)))\n",
    "reviews_1 = reviews.dropna()\n",
    "print('n obs after removing NAs: ' + str(len(reviews_1)))\n",
    "\n",
    "reviews_1['review'] = reviews_1['review'].apply(lambda review:str(review))\n",
    "\n",
    "%time # to calulate the time it takes the algorithm to compute a VADER score\n",
    "i=0 # counter\n",
    "\n",
    "compval1 = [ ] # empty list to hold our computed 'compound' VADER scores\n",
    "\n",
    "while (i<len(reviews_1)):\n",
    "\n",
    "    k = analyser.polarity_scores(reviews_1.iloc[i]['review'])\n",
    "    compval1.append(k['compound'])\n",
    "    \n",
    "    i = i+1\n",
    "    \n",
    "# convert sentiment values to numpy for easier usage\n",
    "compval1 = np.array(compval1)\n",
    "len(compval1)"
   ]
  },
  {
   "cell_type": "code",
   "execution_count": 67,
   "id": "76d485fa",
   "metadata": {},
   "outputs": [
    {
     "name": "stderr",
     "output_type": "stream",
     "text": [
      "/var/folders/dc/k7crvlf16t786rmzsdp6xqs00000gn/T/ipykernel_8219/1427416955.py:1: SettingWithCopyWarning: \n",
      "A value is trying to be set on a copy of a slice from a DataFrame.\n",
      "Try using .loc[row_indexer,col_indexer] = value instead\n",
      "\n",
      "See the caveats in the documentation: https://pandas.pydata.org/pandas-docs/stable/user_guide/indexing.html#returning-a-view-versus-a-copy\n",
      "  reviews_1['VADER score'] = compval1\n"
     ]
    }
   ],
   "source": [
    "reviews_1['VADER score'] = compval1"
   ]
  },
  {
   "cell_type": "code",
   "execution_count": 68,
   "id": "7710450c",
   "metadata": {},
   "outputs": [
    {
     "data": {
      "text/html": [
       "<div>\n",
       "<style scoped>\n",
       "    .dataframe tbody tr th:only-of-type {\n",
       "        vertical-align: middle;\n",
       "    }\n",
       "\n",
       "    .dataframe tbody tr th {\n",
       "        vertical-align: top;\n",
       "    }\n",
       "\n",
       "    .dataframe thead th {\n",
       "        text-align: right;\n",
       "    }\n",
       "</style>\n",
       "<table border=\"1\" class=\"dataframe\">\n",
       "  <thead>\n",
       "    <tr style=\"text-align: right;\">\n",
       "      <th></th>\n",
       "      <th>date_posted</th>\n",
       "      <th>funny</th>\n",
       "      <th>helpful</th>\n",
       "      <th>hour_played</th>\n",
       "      <th>is_early_access_review</th>\n",
       "      <th>recommendation</th>\n",
       "      <th>review</th>\n",
       "      <th>title</th>\n",
       "      <th>positive_flag</th>\n",
       "      <th>VADER score</th>\n",
       "    </tr>\n",
       "  </thead>\n",
       "  <tbody>\n",
       "    <tr>\n",
       "      <th>155631</th>\n",
       "      <td>2015-04-16</td>\n",
       "      <td>0</td>\n",
       "      <td>0</td>\n",
       "      <td>1</td>\n",
       "      <td>False</td>\n",
       "      <td>Not Recommended</td>\n",
       "      <td>A social club account just to play a game ? F no!! I want my $ back and Rock star can go to hell...</td>\n",
       "      <td>Grand Theft Auto V</td>\n",
       "      <td>0.0</td>\n",
       "      <td>-0.2662</td>\n",
       "    </tr>\n",
       "    <tr>\n",
       "      <th>105047</th>\n",
       "      <td>2018-11-21</td>\n",
       "      <td>0</td>\n",
       "      <td>0</td>\n",
       "      <td>1278</td>\n",
       "      <td>False</td>\n",
       "      <td>Recommended</td>\n",
       "      <td>It's pretty good.</td>\n",
       "      <td>Rocket League®</td>\n",
       "      <td>0.0</td>\n",
       "      <td>0.7269</td>\n",
       "    </tr>\n",
       "    <tr>\n",
       "      <th>82862</th>\n",
       "      <td>2017-07-15</td>\n",
       "      <td>0</td>\n",
       "      <td>0</td>\n",
       "      <td>173</td>\n",
       "      <td>False</td>\n",
       "      <td>Recommended</td>\n",
       "      <td>i love this game</td>\n",
       "      <td>Rocket League®</td>\n",
       "      <td>0.0</td>\n",
       "      <td>0.6369</td>\n",
       "    </tr>\n",
       "    <tr>\n",
       "      <th>422529</th>\n",
       "      <td>2016-04-29</td>\n",
       "      <td>0</td>\n",
       "      <td>0</td>\n",
       "      <td>46</td>\n",
       "      <td>True</td>\n",
       "      <td>Recommended</td>\n",
       "      <td>1 Buy Rust.2 Install Rust.3 Load rust.4 Spawn in server5 Try to familiarise myself with the map ...</td>\n",
       "      <td>Rust</td>\n",
       "      <td>0.0</td>\n",
       "      <td>0.9708</td>\n",
       "    </tr>\n",
       "    <tr>\n",
       "      <th>11232</th>\n",
       "      <td>2016-09-03</td>\n",
       "      <td>0</td>\n",
       "      <td>0</td>\n",
       "      <td>109</td>\n",
       "      <td>False</td>\n",
       "      <td>Recommended</td>\n",
       "      <td>This is a really great horror game ever. Just few things that I think the developers need to imp...</td>\n",
       "      <td>Dead by Daylight</td>\n",
       "      <td>0.0</td>\n",
       "      <td>0.5130</td>\n",
       "    </tr>\n",
       "    <tr>\n",
       "      <th>137065</th>\n",
       "      <td>2017-02-25</td>\n",
       "      <td>0</td>\n",
       "      <td>0</td>\n",
       "      <td>154</td>\n",
       "      <td>False</td>\n",
       "      <td>Not Recommended</td>\n",
       "      <td>I will start off saying that while this game worked i had a blast playing with my friends in a c...</td>\n",
       "      <td>Grand Theft Auto V</td>\n",
       "      <td>0.0</td>\n",
       "      <td>-0.7433</td>\n",
       "    </tr>\n",
       "    <tr>\n",
       "      <th>138382</th>\n",
       "      <td>2017-06-25</td>\n",
       "      <td>0</td>\n",
       "      <td>0</td>\n",
       "      <td>131</td>\n",
       "      <td>False</td>\n",
       "      <td>Not Recommended</td>\n",
       "      <td>game without mods</td>\n",
       "      <td>Grand Theft Auto V</td>\n",
       "      <td>0.0</td>\n",
       "      <td>0.0000</td>\n",
       "    </tr>\n",
       "    <tr>\n",
       "      <th>11268</th>\n",
       "      <td>2016-08-06</td>\n",
       "      <td>0</td>\n",
       "      <td>0</td>\n",
       "      <td>199</td>\n",
       "      <td>False</td>\n",
       "      <td>Recommended</td>\n",
       "      <td>I recommend this game to people who are looking for a somewhat new idea to play while keeping a ...</td>\n",
       "      <td>Dead by Daylight</td>\n",
       "      <td>0.0</td>\n",
       "      <td>0.9857</td>\n",
       "    </tr>\n",
       "    <tr>\n",
       "      <th>379815</th>\n",
       "      <td>2016-10-08</td>\n",
       "      <td>0</td>\n",
       "      <td>0</td>\n",
       "      <td>23</td>\n",
       "      <td>True</td>\n",
       "      <td>Recommended</td>\n",
       "      <td>This is really COOL but peopel are killing everytime without reason and no one wanna team up so ...</td>\n",
       "      <td>Rust</td>\n",
       "      <td>0.0</td>\n",
       "      <td>0.1393</td>\n",
       "    </tr>\n",
       "    <tr>\n",
       "      <th>399703</th>\n",
       "      <td>2018-08-12</td>\n",
       "      <td>0</td>\n",
       "      <td>0</td>\n",
       "      <td>306</td>\n",
       "      <td>False</td>\n",
       "      <td>Recommended</td>\n",
       "      <td>most toxic comunity ive ever seen!</td>\n",
       "      <td>Rust</td>\n",
       "      <td>0.0</td>\n",
       "      <td>0.0000</td>\n",
       "    </tr>\n",
       "  </tbody>\n",
       "</table>\n",
       "</div>"
      ],
      "text/plain": [
       "       date_posted  funny  helpful  hour_played  is_early_access_review  \\\n",
       "155631  2015-04-16      0        0            1                   False   \n",
       "105047  2018-11-21      0        0         1278                   False   \n",
       "82862   2017-07-15      0        0          173                   False   \n",
       "422529  2016-04-29      0        0           46                    True   \n",
       "11232   2016-09-03      0        0          109                   False   \n",
       "137065  2017-02-25      0        0          154                   False   \n",
       "138382  2017-06-25      0        0          131                   False   \n",
       "11268   2016-08-06      0        0          199                   False   \n",
       "379815  2016-10-08      0        0           23                    True   \n",
       "399703  2018-08-12      0        0          306                   False   \n",
       "\n",
       "         recommendation  \\\n",
       "155631  Not Recommended   \n",
       "105047      Recommended   \n",
       "82862       Recommended   \n",
       "422529      Recommended   \n",
       "11232       Recommended   \n",
       "137065  Not Recommended   \n",
       "138382  Not Recommended   \n",
       "11268       Recommended   \n",
       "379815      Recommended   \n",
       "399703      Recommended   \n",
       "\n",
       "                                                                                                     review  \\\n",
       "155631  A social club account just to play a game ? F no!! I want my $ back and Rock star can go to hell...   \n",
       "105047                                                                                    It's pretty good.   \n",
       "82862                                                                                      i love this game   \n",
       "422529  1 Buy Rust.2 Install Rust.3 Load rust.4 Spawn in server5 Try to familiarise myself with the map ...   \n",
       "11232   This is a really great horror game ever. Just few things that I think the developers need to imp...   \n",
       "137065  I will start off saying that while this game worked i had a blast playing with my friends in a c...   \n",
       "138382                                                                                    game without mods   \n",
       "11268   I recommend this game to people who are looking for a somewhat new idea to play while keeping a ...   \n",
       "379815  This is really COOL but peopel are killing everytime without reason and no one wanna team up so ...   \n",
       "399703                                                                   most toxic comunity ive ever seen!   \n",
       "\n",
       "                     title  positive_flag  VADER score  \n",
       "155631  Grand Theft Auto V            0.0      -0.2662  \n",
       "105047      Rocket League®            0.0       0.7269  \n",
       "82862       Rocket League®            0.0       0.6369  \n",
       "422529                Rust            0.0       0.9708  \n",
       "11232     Dead by Daylight            0.0       0.5130  \n",
       "137065  Grand Theft Auto V            0.0      -0.7433  \n",
       "138382  Grand Theft Auto V            0.0       0.0000  \n",
       "11268     Dead by Daylight            0.0       0.9857  \n",
       "379815                Rust            0.0       0.1393  \n",
       "399703                Rust            0.0       0.0000  "
      ]
     },
     "execution_count": 68,
     "metadata": {},
     "output_type": "execute_result"
    }
   ],
   "source": [
    "reviews_1.head(10)"
   ]
  },
  {
   "cell_type": "markdown",
   "id": "4a00cffb",
   "metadata": {},
   "source": [
    "Since there is no neutral option here, lets make the model predict positive if VADER score > 0 and negative otherwise."
   ]
  },
  {
   "cell_type": "code",
   "execution_count": 69,
   "id": "3800c2e2",
   "metadata": {},
   "outputs": [
    {
     "name": "stdout",
     "output_type": "stream",
     "text": [
      "CPU times: user 1 µs, sys: 1e+03 ns, total: 2 µs\n",
      "Wall time: 2.15 µs\n"
     ]
    }
   ],
   "source": [
    "%time\n",
    "\n",
    "# assign score categories and logic\n",
    "i = 0\n",
    "\n",
    "predicted_value = [ ] # empty series to hold our predicted values\n",
    "\n",
    "while(i<len(reviews_1)):\n",
    "    if ((reviews_1.iloc[i]['VADER score'] > 0)):\n",
    "        predicted_value.append('Recommended')\n",
    "        i = i+1\n",
    "    else:\n",
    "        predicted_value.append('Not Recommended')\n",
    "        i = i+1"
   ]
  },
  {
   "cell_type": "code",
   "execution_count": 70,
   "id": "38ca5071",
   "metadata": {},
   "outputs": [
    {
     "name": "stderr",
     "output_type": "stream",
     "text": [
      "/var/folders/dc/k7crvlf16t786rmzsdp6xqs00000gn/T/ipykernel_8219/2574194438.py:1: SettingWithCopyWarning: \n",
      "A value is trying to be set on a copy of a slice from a DataFrame.\n",
      "Try using .loc[row_indexer,col_indexer] = value instead\n",
      "\n",
      "See the caveats in the documentation: https://pandas.pydata.org/pandas-docs/stable/user_guide/indexing.html#returning-a-view-versus-a-copy\n",
      "  reviews_1['predicted sentiment'] = predicted_value\n"
     ]
    }
   ],
   "source": [
    "reviews_1['predicted sentiment'] = predicted_value"
   ]
  },
  {
   "cell_type": "code",
   "execution_count": 71,
   "id": "7dedbdc8",
   "metadata": {},
   "outputs": [
    {
     "data": {
      "text/html": [
       "<div>\n",
       "<style scoped>\n",
       "    .dataframe tbody tr th:only-of-type {\n",
       "        vertical-align: middle;\n",
       "    }\n",
       "\n",
       "    .dataframe tbody tr th {\n",
       "        vertical-align: top;\n",
       "    }\n",
       "\n",
       "    .dataframe thead th {\n",
       "        text-align: right;\n",
       "    }\n",
       "</style>\n",
       "<table border=\"1\" class=\"dataframe\">\n",
       "  <thead>\n",
       "    <tr style=\"text-align: right;\">\n",
       "      <th></th>\n",
       "      <th>date_posted</th>\n",
       "      <th>funny</th>\n",
       "      <th>helpful</th>\n",
       "      <th>hour_played</th>\n",
       "      <th>is_early_access_review</th>\n",
       "      <th>recommendation</th>\n",
       "      <th>review</th>\n",
       "      <th>title</th>\n",
       "      <th>positive_flag</th>\n",
       "      <th>VADER score</th>\n",
       "      <th>predicted sentiment</th>\n",
       "    </tr>\n",
       "  </thead>\n",
       "  <tbody>\n",
       "    <tr>\n",
       "      <th>155631</th>\n",
       "      <td>2015-04-16</td>\n",
       "      <td>0</td>\n",
       "      <td>0</td>\n",
       "      <td>1</td>\n",
       "      <td>False</td>\n",
       "      <td>Not Recommended</td>\n",
       "      <td>A social club account just to play a game ? F no!! I want my $ back and Rock star can go to hell...</td>\n",
       "      <td>Grand Theft Auto V</td>\n",
       "      <td>0.0</td>\n",
       "      <td>-0.2662</td>\n",
       "      <td>Not Recommended</td>\n",
       "    </tr>\n",
       "    <tr>\n",
       "      <th>105047</th>\n",
       "      <td>2018-11-21</td>\n",
       "      <td>0</td>\n",
       "      <td>0</td>\n",
       "      <td>1278</td>\n",
       "      <td>False</td>\n",
       "      <td>Recommended</td>\n",
       "      <td>It's pretty good.</td>\n",
       "      <td>Rocket League®</td>\n",
       "      <td>0.0</td>\n",
       "      <td>0.7269</td>\n",
       "      <td>Recommended</td>\n",
       "    </tr>\n",
       "    <tr>\n",
       "      <th>82862</th>\n",
       "      <td>2017-07-15</td>\n",
       "      <td>0</td>\n",
       "      <td>0</td>\n",
       "      <td>173</td>\n",
       "      <td>False</td>\n",
       "      <td>Recommended</td>\n",
       "      <td>i love this game</td>\n",
       "      <td>Rocket League®</td>\n",
       "      <td>0.0</td>\n",
       "      <td>0.6369</td>\n",
       "      <td>Recommended</td>\n",
       "    </tr>\n",
       "    <tr>\n",
       "      <th>422529</th>\n",
       "      <td>2016-04-29</td>\n",
       "      <td>0</td>\n",
       "      <td>0</td>\n",
       "      <td>46</td>\n",
       "      <td>True</td>\n",
       "      <td>Recommended</td>\n",
       "      <td>1 Buy Rust.2 Install Rust.3 Load rust.4 Spawn in server5 Try to familiarise myself with the map ...</td>\n",
       "      <td>Rust</td>\n",
       "      <td>0.0</td>\n",
       "      <td>0.9708</td>\n",
       "      <td>Recommended</td>\n",
       "    </tr>\n",
       "    <tr>\n",
       "      <th>11232</th>\n",
       "      <td>2016-09-03</td>\n",
       "      <td>0</td>\n",
       "      <td>0</td>\n",
       "      <td>109</td>\n",
       "      <td>False</td>\n",
       "      <td>Recommended</td>\n",
       "      <td>This is a really great horror game ever. Just few things that I think the developers need to imp...</td>\n",
       "      <td>Dead by Daylight</td>\n",
       "      <td>0.0</td>\n",
       "      <td>0.5130</td>\n",
       "      <td>Recommended</td>\n",
       "    </tr>\n",
       "  </tbody>\n",
       "</table>\n",
       "</div>"
      ],
      "text/plain": [
       "       date_posted  funny  helpful  hour_played  is_early_access_review  \\\n",
       "155631  2015-04-16      0        0            1                   False   \n",
       "105047  2018-11-21      0        0         1278                   False   \n",
       "82862   2017-07-15      0        0          173                   False   \n",
       "422529  2016-04-29      0        0           46                    True   \n",
       "11232   2016-09-03      0        0          109                   False   \n",
       "\n",
       "         recommendation  \\\n",
       "155631  Not Recommended   \n",
       "105047      Recommended   \n",
       "82862       Recommended   \n",
       "422529      Recommended   \n",
       "11232       Recommended   \n",
       "\n",
       "                                                                                                     review  \\\n",
       "155631  A social club account just to play a game ? F no!! I want my $ back and Rock star can go to hell...   \n",
       "105047                                                                                    It's pretty good.   \n",
       "82862                                                                                      i love this game   \n",
       "422529  1 Buy Rust.2 Install Rust.3 Load rust.4 Spawn in server5 Try to familiarise myself with the map ...   \n",
       "11232   This is a really great horror game ever. Just few things that I think the developers need to imp...   \n",
       "\n",
       "                     title  positive_flag  VADER score predicted sentiment  \n",
       "155631  Grand Theft Auto V            0.0      -0.2662     Not Recommended  \n",
       "105047      Rocket League®            0.0       0.7269         Recommended  \n",
       "82862       Rocket League®            0.0       0.6369         Recommended  \n",
       "422529                Rust            0.0       0.9708         Recommended  \n",
       "11232     Dead by Daylight            0.0       0.5130         Recommended  "
      ]
     },
     "execution_count": 71,
     "metadata": {},
     "output_type": "execute_result"
    }
   ],
   "source": [
    "reviews_1.head()"
   ]
  },
  {
   "cell_type": "code",
   "execution_count": 72,
   "id": "2f3c6ed6",
   "metadata": {},
   "outputs": [
    {
     "data": {
      "text/plain": [
       "0.6983420424488742"
      ]
     },
     "execution_count": 72,
     "metadata": {},
     "output_type": "execute_result"
    }
   ],
   "source": [
    "madeit = reviews_1[reviews_1['recommendation'] == reviews_1['predicted sentiment']]\n",
    "\n",
    "len(madeit)/len(reviews_1)"
   ]
  },
  {
   "cell_type": "code",
   "execution_count": 73,
   "id": "847e740f",
   "metadata": {},
   "outputs": [
    {
     "data": {
      "text/plain": [
       "<AxesSubplot:xlabel='predicted sentiment'>"
      ]
     },
     "execution_count": 73,
     "metadata": {},
     "output_type": "execute_result"
    },
    {
     "data": {
      "image/png": "[encoded data removed]",
      "text/plain": [
       "<Figure size 432x288 with 1 Axes>"
      ]
     },
     "metadata": {
      "needs_background": "light"
     },
     "output_type": "display_data"
    }
   ],
   "source": [
    "reviews_1.groupby('predicted sentiment').size().plot(kind='bar')"
   ]
  },
  {
   "cell_type": "code",
   "execution_count": 74,
   "id": "392e8fb6",
   "metadata": {},
   "outputs": [
    {
     "data": {
      "text/html": [
       "<div>\n",
       "<style scoped>\n",
       "    .dataframe tbody tr th:only-of-type {\n",
       "        vertical-align: middle;\n",
       "    }\n",
       "\n",
       "    .dataframe tbody tr th {\n",
       "        vertical-align: top;\n",
       "    }\n",
       "\n",
       "    .dataframe thead th {\n",
       "        text-align: right;\n",
       "    }\n",
       "</style>\n",
       "<table border=\"1\" class=\"dataframe\">\n",
       "  <thead>\n",
       "    <tr style=\"text-align: right;\">\n",
       "      <th></th>\n",
       "      <th>date_posted</th>\n",
       "      <th>funny</th>\n",
       "      <th>helpful</th>\n",
       "      <th>hour_played</th>\n",
       "      <th>is_early_access_review</th>\n",
       "      <th>recommendation</th>\n",
       "      <th>review</th>\n",
       "      <th>title</th>\n",
       "      <th>positive_flag</th>\n",
       "      <th>VADER score</th>\n",
       "      <th>predicted sentiment</th>\n",
       "    </tr>\n",
       "  </thead>\n",
       "  <tbody>\n",
       "    <tr>\n",
       "      <th>9391</th>\n",
       "      <td>2017-11-22</td>\n",
       "      <td>0</td>\n",
       "      <td>0</td>\n",
       "      <td>5528</td>\n",
       "      <td>False</td>\n",
       "      <td>Recommended</td>\n",
       "      <td>Good game ya there are cheaters but its how you deal with them</td>\n",
       "      <td>Grand Theft Auto V</td>\n",
       "      <td>0.0</td>\n",
       "      <td>0.0000</td>\n",
       "      <td>Not Recommended</td>\n",
       "    </tr>\n",
       "    <tr>\n",
       "      <th>1760</th>\n",
       "      <td>2016-07-30</td>\n",
       "      <td>1</td>\n",
       "      <td>1</td>\n",
       "      <td>5551</td>\n",
       "      <td>True</td>\n",
       "      <td>Recommended</td>\n",
       "      <td>Uninstall</td>\n",
       "      <td>Rust</td>\n",
       "      <td>0.0</td>\n",
       "      <td>0.0000</td>\n",
       "      <td>Not Recommended</td>\n",
       "    </tr>\n",
       "    <tr>\n",
       "      <th>1450</th>\n",
       "      <td>2017-03-06</td>\n",
       "      <td>0</td>\n",
       "      <td>0</td>\n",
       "      <td>5612</td>\n",
       "      <td>True</td>\n",
       "      <td>Recommended</td>\n",
       "      <td>10/10</td>\n",
       "      <td>Rust</td>\n",
       "      <td>1.0</td>\n",
       "      <td>0.0000</td>\n",
       "      <td>Not Recommended</td>\n",
       "    </tr>\n",
       "    <tr>\n",
       "      <th>4509</th>\n",
       "      <td>2017-02-07</td>\n",
       "      <td>0</td>\n",
       "      <td>0</td>\n",
       "      <td>5666</td>\n",
       "      <td>False</td>\n",
       "      <td>Recommended</td>\n",
       "      <td>AYYYYYYYYYYYYYYYYY</td>\n",
       "      <td>Rust</td>\n",
       "      <td>0.0</td>\n",
       "      <td>0.0000</td>\n",
       "      <td>Not Recommended</td>\n",
       "    </tr>\n",
       "    <tr>\n",
       "      <th>2198</th>\n",
       "      <td>2016-08-11</td>\n",
       "      <td>2</td>\n",
       "      <td>4</td>\n",
       "      <td>5711</td>\n",
       "      <td>False</td>\n",
       "      <td>Recommended</td>\n",
       "      <td>Actually the best Gta but with a lot of abusing modders which makes it kind of cancerous.</td>\n",
       "      <td>Grand Theft Auto V</td>\n",
       "      <td>0.0</td>\n",
       "      <td>-0.3400</td>\n",
       "      <td>Not Recommended</td>\n",
       "    </tr>\n",
       "    <tr>\n",
       "      <th>12431</th>\n",
       "      <td>2017-09-27</td>\n",
       "      <td>1</td>\n",
       "      <td>6</td>\n",
       "      <td>6150</td>\n",
       "      <td>False</td>\n",
       "      <td>Recommended</td>\n",
       "      <td>ㅤㅤㅤㅤ ㅤㅤㅤㅤㅤ ㅤㅤㅤㅤㅤㅤㅤㅤㅤㅤㅤㅤㅤㅤㅤㅤㅤㅤㅤㅤㅤㅤㅤㅤㅤ ㅤㅤㅤㅤㅤㅤㅤㅤㅤㅤㅤㅤㅤ αвσυт ㅤㅤㅤㅤㅤㅤㅤㅤʀᴇᴀʟ ɴᴀᴍᴇ σʟᴇɢ ㅤㅤㅤㅤㅤㅤㅤㅤᴀɢᴇ 18 ㅤ...</td>\n",
       "      <td>PLAYERUNKNOWN'S BATTLEGROUNDS</td>\n",
       "      <td>0.0</td>\n",
       "      <td>0.0000</td>\n",
       "      <td>Not Recommended</td>\n",
       "    </tr>\n",
       "    <tr>\n",
       "      <th>13956</th>\n",
       "      <td>2015-07-16</td>\n",
       "      <td>4</td>\n",
       "      <td>3</td>\n",
       "      <td>6789</td>\n",
       "      <td>False</td>\n",
       "      <td>Recommended</td>\n",
       "      <td>This game is crack cocaine use at own risk</td>\n",
       "      <td>Rocket League®</td>\n",
       "      <td>0.0</td>\n",
       "      <td>-0.2732</td>\n",
       "      <td>Not Recommended</td>\n",
       "    </tr>\n",
       "    <tr>\n",
       "      <th>7096</th>\n",
       "      <td>2015-02-25</td>\n",
       "      <td>2</td>\n",
       "      <td>3</td>\n",
       "      <td>6834</td>\n",
       "      <td>True</td>\n",
       "      <td>Recommended</td>\n",
       "      <td>Badass Game</td>\n",
       "      <td>Rust</td>\n",
       "      <td>0.0</td>\n",
       "      <td>-0.1531</td>\n",
       "      <td>Not Recommended</td>\n",
       "    </tr>\n",
       "    <tr>\n",
       "      <th>12441</th>\n",
       "      <td>2017-02-15</td>\n",
       "      <td>0</td>\n",
       "      <td>0</td>\n",
       "      <td>7443</td>\n",
       "      <td>True</td>\n",
       "      <td>Recommended</td>\n",
       "      <td>Do you want to run at people screaming the most random ever while beating them with a rock? Well...</td>\n",
       "      <td>Rust</td>\n",
       "      <td>0.0</td>\n",
       "      <td>-0.8284</td>\n",
       "      <td>Not Recommended</td>\n",
       "    </tr>\n",
       "    <tr>\n",
       "      <th>6843</th>\n",
       "      <td>2014-03-04</td>\n",
       "      <td>0</td>\n",
       "      <td>0</td>\n",
       "      <td>7637</td>\n",
       "      <td>True</td>\n",
       "      <td>Recommended</td>\n",
       "      <td>ppl hacking the official servers no admins very annoyed</td>\n",
       "      <td>Rust</td>\n",
       "      <td>0.0</td>\n",
       "      <td>-0.6240</td>\n",
       "      <td>Not Recommended</td>\n",
       "    </tr>\n",
       "  </tbody>\n",
       "</table>\n",
       "</div>"
      ],
      "text/plain": [
       "      date_posted  funny  helpful  hour_played  is_early_access_review  \\\n",
       "9391   2017-11-22      0        0         5528                   False   \n",
       "1760   2016-07-30      1        1         5551                    True   \n",
       "1450   2017-03-06      0        0         5612                    True   \n",
       "4509   2017-02-07      0        0         5666                   False   \n",
       "2198   2016-08-11      2        4         5711                   False   \n",
       "12431  2017-09-27      1        6         6150                   False   \n",
       "13956  2015-07-16      4        3         6789                   False   \n",
       "7096   2015-02-25      2        3         6834                    True   \n",
       "12441  2017-02-15      0        0         7443                    True   \n",
       "6843   2014-03-04      0        0         7637                    True   \n",
       "\n",
       "      recommendation  \\\n",
       "9391     Recommended   \n",
       "1760     Recommended   \n",
       "1450     Recommended   \n",
       "4509     Recommended   \n",
       "2198     Recommended   \n",
       "12431    Recommended   \n",
       "13956    Recommended   \n",
       "7096     Recommended   \n",
       "12441    Recommended   \n",
       "6843     Recommended   \n",
       "\n",
       "                                                                                                    review  \\\n",
       "9391                                        Good game ya there are cheaters but its how you deal with them   \n",
       "1760                                                                                             Uninstall   \n",
       "1450                                                                                                 10/10   \n",
       "4509                                                                                    AYYYYYYYYYYYYYYYYY   \n",
       "2198             Actually the best Gta but with a lot of abusing modders which makes it kind of cancerous.   \n",
       "12431  ㅤㅤㅤㅤ ㅤㅤㅤㅤㅤ ㅤㅤㅤㅤㅤㅤㅤㅤㅤㅤㅤㅤㅤㅤㅤㅤㅤㅤㅤㅤㅤㅤㅤㅤㅤ ㅤㅤㅤㅤㅤㅤㅤㅤㅤㅤㅤㅤㅤ αвσυт ㅤㅤㅤㅤㅤㅤㅤㅤʀᴇᴀʟ ɴᴀᴍᴇ σʟᴇɢ ㅤㅤㅤㅤㅤㅤㅤㅤᴀɢᴇ 18 ㅤ...   \n",
       "13956                                                           This game is crack cocaine use at own risk   \n",
       "7096                                                                                           Badass Game   \n",
       "12441  Do you want to run at people screaming the most random ever while beating them with a rock? Well...   \n",
       "6843                                               ppl hacking the official servers no admins very annoyed   \n",
       "\n",
       "                               title  positive_flag  VADER score  \\\n",
       "9391              Grand Theft Auto V            0.0       0.0000   \n",
       "1760                            Rust            0.0       0.0000   \n",
       "1450                            Rust            1.0       0.0000   \n",
       "4509                            Rust            0.0       0.0000   \n",
       "2198              Grand Theft Auto V            0.0      -0.3400   \n",
       "12431  PLAYERUNKNOWN'S BATTLEGROUNDS            0.0       0.0000   \n",
       "13956                 Rocket League®            0.0      -0.2732   \n",
       "7096                            Rust            0.0      -0.1531   \n",
       "12441                           Rust            0.0      -0.8284   \n",
       "6843                            Rust            0.0      -0.6240   \n",
       "\n",
       "      predicted sentiment  \n",
       "9391      Not Recommended  \n",
       "1760      Not Recommended  \n",
       "1450      Not Recommended  \n",
       "4509      Not Recommended  \n",
       "2198      Not Recommended  \n",
       "12431     Not Recommended  \n",
       "13956     Not Recommended  \n",
       "7096      Not Recommended  \n",
       "12441     Not Recommended  \n",
       "6843      Not Recommended  "
      ]
     },
     "execution_count": 74,
     "metadata": {},
     "output_type": "execute_result"
    }
   ],
   "source": [
    "didntmakeit = reviews_1[reviews_1['recommendation'] != reviews_1['predicted sentiment']]\n",
    "\n",
    "didntmakeit.reset_index(drop=True, inplace=True)\n",
    "didntmakeit.sort_values('hour_played').tail(10)"
   ]
  },
  {
   "cell_type": "markdown",
   "id": "fad370c5",
   "metadata": {},
   "source": [
    "Just out of curiosity we have to check what we believe is quite confusing: the reviews of the people with 1000s of hours played that left a negative review."
   ]
  },
  {
   "cell_type": "code",
   "execution_count": 75,
   "id": "1b30d71e",
   "metadata": {
    "scrolled": true
   },
   "outputs": [
    {
     "data": {
      "text/html": [
       "<div>\n",
       "<style scoped>\n",
       "    .dataframe tbody tr th:only-of-type {\n",
       "        vertical-align: middle;\n",
       "    }\n",
       "\n",
       "    .dataframe tbody tr th {\n",
       "        vertical-align: top;\n",
       "    }\n",
       "\n",
       "    .dataframe thead th {\n",
       "        text-align: right;\n",
       "    }\n",
       "</style>\n",
       "<table border=\"1\" class=\"dataframe\">\n",
       "  <thead>\n",
       "    <tr style=\"text-align: right;\">\n",
       "      <th></th>\n",
       "      <th>hour_played</th>\n",
       "      <th>recommendation</th>\n",
       "      <th>review</th>\n",
       "      <th>positive_flag</th>\n",
       "    </tr>\n",
       "  </thead>\n",
       "  <tbody>\n",
       "    <tr>\n",
       "      <th>7169</th>\n",
       "      <td>3301</td>\n",
       "      <td>Not Recommended</td>\n",
       "      <td>This game blows to many bullies. Filled to the brim with the left overs of the Call of Duty fan ...</td>\n",
       "      <td>0.0</td>\n",
       "    </tr>\n",
       "    <tr>\n",
       "      <th>10658</th>\n",
       "      <td>3371</td>\n",
       "      <td>Not Recommended</td>\n",
       "      <td>I played this game for over 2000 Horus. It was until recently one of the best games I have ever ...</td>\n",
       "      <td>0.0</td>\n",
       "    </tr>\n",
       "    <tr>\n",
       "      <th>11731</th>\n",
       "      <td>3464</td>\n",
       "      <td>Not Recommended</td>\n",
       "      <td>theres no begining middle or end i played this quit a bit... go out by a rock and bang it on ya ...</td>\n",
       "      <td>0.0</td>\n",
       "    </tr>\n",
       "    <tr>\n",
       "      <th>1763</th>\n",
       "      <td>3491</td>\n",
       "      <td>Not Recommended</td>\n",
       "      <td>Unplayable unless you either play with a bounch of people (which simply isnt fun unless you are ...</td>\n",
       "      <td>0.0</td>\n",
       "    </tr>\n",
       "    <tr>\n",
       "      <th>8286</th>\n",
       "      <td>3645</td>\n",
       "      <td>Not Recommended</td>\n",
       "      <td>PLease refund the game is</td>\n",
       "      <td>0.0</td>\n",
       "    </tr>\n",
       "    <tr>\n",
       "      <th>10614</th>\n",
       "      <td>3685</td>\n",
       "      <td>Not Recommended</td>\n",
       "      <td>Started playing rust when it was early access. Updated first Thursday of every month. This was a...</td>\n",
       "      <td>0.0</td>\n",
       "    </tr>\n",
       "    <tr>\n",
       "      <th>12018</th>\n",
       "      <td>3832</td>\n",
       "      <td>Not Recommended</td>\n",
       "      <td>Helk ruined my favorite game. Thanks you piece of</td>\n",
       "      <td>0.0</td>\n",
       "    </tr>\n",
       "    <tr>\n",
       "      <th>7814</th>\n",
       "      <td>3847</td>\n",
       "      <td>Not Recommended</td>\n",
       "      <td>Its been a good 2000 hours but i think this game has reached one of its lows. Its ridiculous how...</td>\n",
       "      <td>0.0</td>\n",
       "    </tr>\n",
       "    <tr>\n",
       "      <th>12890</th>\n",
       "      <td>3985</td>\n",
       "      <td>Not Recommended</td>\n",
       "      <td>Esports Ready.</td>\n",
       "      <td>0.0</td>\n",
       "    </tr>\n",
       "    <tr>\n",
       "      <th>9120</th>\n",
       "      <td>4422</td>\n",
       "      <td>Not Recommended</td>\n",
       "      <td>Having played GTA4 for over 1000 hours and then bought GTA5 I can say that I am left with distas...</td>\n",
       "      <td>0.0</td>\n",
       "    </tr>\n",
       "  </tbody>\n",
       "</table>\n",
       "</div>"
      ],
      "text/plain": [
       "       hour_played   recommendation  \\\n",
       "7169          3301  Not Recommended   \n",
       "10658         3371  Not Recommended   \n",
       "11731         3464  Not Recommended   \n",
       "1763          3491  Not Recommended   \n",
       "8286          3645  Not Recommended   \n",
       "10614         3685  Not Recommended   \n",
       "12018         3832  Not Recommended   \n",
       "7814          3847  Not Recommended   \n",
       "12890         3985  Not Recommended   \n",
       "9120          4422  Not Recommended   \n",
       "\n",
       "                                                                                                    review  \\\n",
       "7169   This game blows to many bullies. Filled to the brim with the left overs of the Call of Duty fan ...   \n",
       "10658  I played this game for over 2000 Horus. It was until recently one of the best games I have ever ...   \n",
       "11731  theres no begining middle or end i played this quit a bit... go out by a rock and bang it on ya ...   \n",
       "1763   Unplayable unless you either play with a bounch of people (which simply isnt fun unless you are ...   \n",
       "8286                                                                             PLease refund the game is   \n",
       "10614  Started playing rust when it was early access. Updated first Thursday of every month. This was a...   \n",
       "12018                                                    Helk ruined my favorite game. Thanks you piece of   \n",
       "7814   Its been a good 2000 hours but i think this game has reached one of its lows. Its ridiculous how...   \n",
       "12890                                                                                       Esports Ready.   \n",
       "9120   Having played GTA4 for over 1000 hours and then bought GTA5 I can say that I am left with distas...   \n",
       "\n",
       "       positive_flag  \n",
       "7169             0.0  \n",
       "10658            0.0  \n",
       "11731            0.0  \n",
       "1763             0.0  \n",
       "8286             0.0  \n",
       "10614            0.0  \n",
       "12018            0.0  \n",
       "7814             0.0  \n",
       "12890            0.0  \n",
       "9120             0.0  "
      ]
     },
     "execution_count": 75,
     "metadata": {},
     "output_type": "execute_result"
    }
   ],
   "source": [
    "pd.options.display.max_colwidth = 100\n",
    "didntmakeit.query('recommendation == \"Not Recommended\"').sort_values('hour_played').tail(10).iloc[:,[3, 5, 6, 8]]"
   ]
  },
  {
   "cell_type": "markdown",
   "id": "b2625bcb",
   "metadata": {},
   "source": [
    "Clearly most of these people are just mad at some changes that the developer made after they played for that long.\n",
    "\n",
    "Now lets check wether the prediction is improved using the flag constructed using regular expressions."
   ]
  },
  {
   "cell_type": "code",
   "execution_count": 76,
   "id": "4f87db21",
   "metadata": {},
   "outputs": [],
   "source": [
    "reviews_1.loc[reviews_1[\"positive_flag\"] == 1, \"predicted sentiment\"] = 'Recommended'"
   ]
  },
  {
   "cell_type": "code",
   "execution_count": 77,
   "id": "a45dd9aa",
   "metadata": {},
   "outputs": [
    {
     "data": {
      "text/plain": [
       "0.7161903533105392"
      ]
     },
     "execution_count": 77,
     "metadata": {},
     "output_type": "execute_result"
    }
   ],
   "source": [
    "madeit = reviews_1[reviews_1['recommendation'] == reviews_1['predicted sentiment']]\n",
    "\n",
    "len(madeit)/len(reviews_1)"
   ]
  },
  {
   "cell_type": "markdown",
   "id": "4f5fbdb0",
   "metadata": {},
   "source": [
    "Vader scoring got almost 70% of the reviews right, which is not a stellar score concerning that this is binary classification so guessing randomly would get 50% right. The introduction of regular expressions, and through them some expert input into the model increased the accuracy of the model by 2%, which is not a lot, but in a real life scenario it might be very significant. Now, we will attempt to use naive bayes model to tackle this problem, and hope for a better score."
   ]
  },
  {
   "cell_type": "code",
   "execution_count": 20,
   "id": "c5699cca",
   "metadata": {},
   "outputs": [],
   "source": [
    "import nltk.classify.util\n",
    "from nltk.classify import NaiveBayesClassifier\n",
    "from nltk.corpus import movie_reviews"
   ]
  },
  {
   "cell_type": "code",
   "execution_count": 21,
   "id": "80d33b7a",
   "metadata": {},
   "outputs": [],
   "source": [
    "reviews['review'] = reviews['review'].apply(lambda review:str(review))\n",
    "\n",
    "positive = reviews.query('recommendation == \"Recommended\"')\n",
    "negative = reviews.query('recommendation == \"Not Recommended\"')"
   ]
  },
  {
   "cell_type": "code",
   "execution_count": 25,
   "id": "e51f415f",
   "metadata": {},
   "outputs": [],
   "source": [
    "def extract_words_pos(row):\n",
    "    words = row['review'].split()\n",
    "    word_dict = {word: True for word in words}\n",
    "    return (word_dict, 'Positive')\n",
    "\n",
    "features_positive = positive.apply(extract_words_pos, axis=1).tolist()\n",
    "\n",
    "def extract_words_neg(row):\n",
    "    words = row['review'].split()\n",
    "    word_dict = {word: True for word in words}\n",
    "    return (word_dict, 'Negative')\n",
    "\n",
    "features_negative = negative.apply(extract_words_neg, axis=1).tolist()"
   ]
  },
  {
   "cell_type": "code",
   "execution_count": 26,
   "id": "1405c221",
   "metadata": {},
   "outputs": [],
   "source": [
    "# training and testing datasets\n",
    "# split the data into train and test (80/20)\n",
    "threshold_factor = 0.8\n",
    "threshold_positive = int(threshold_factor * len(features_positive))\n",
    "threshold_negative = int(threshold_factor * len(features_negative))"
   ]
  },
  {
   "cell_type": "code",
   "execution_count": 27,
   "id": "c25cb1a9",
   "metadata": {},
   "outputs": [
    {
     "name": "stdout",
     "output_type": "stream",
     "text": [
      "\n",
      "Number of training datapoints: 37423\n",
      "Number of test datapoints: 9357\n"
     ]
    }
   ],
   "source": [
    "# extract the features\n",
    "features_train = features_positive[:threshold_positive] + features_negative[:threshold_negative]\n",
    "features_test = features_positive[threshold_positive:] + features_negative[threshold_negative:]  \n",
    "print(\"\\nNumber of training datapoints:\" , len(features_train))\n",
    "print(\"Number of test datapoints:\" , len(features_test))"
   ]
  },
  {
   "cell_type": "code",
   "execution_count": 28,
   "id": "6151962a",
   "metadata": {},
   "outputs": [
    {
     "name": "stdout",
     "output_type": "stream",
     "text": [
      "\n",
      "Accuracy of the classifier: 0.5833066153681735\n"
     ]
    }
   ],
   "source": [
    "# train a Naive Bayes classifier\n",
    "classifier = NaiveBayesClassifier.train(features_train)\n",
    "print(\"\\nAccuracy of the classifier:\", nltk.classify.util.accuracy(classifier, features_test))"
   ]
  },
  {
   "cell_type": "code",
   "execution_count": 29,
   "id": "6b724251",
   "metadata": {},
   "outputs": [
    {
     "name": "stdout",
     "output_type": "stream",
     "text": [
      "\n",
      "Top 10 most informative words:\n",
      "behalf\n",
      "Two.\n",
      "Garbage\n",
      "cheated\n",
      "protest\n",
      "milking\n",
      "Platform\n",
      "behaviors\n",
      "TRASH\n",
      "OpenIV.\n"
     ]
    }
   ],
   "source": [
    "print(\"\\nTop 10 most informative words:\")\n",
    "for item in classifier.most_informative_features()[:10]:\n",
    "    print (item[0])"
   ]
  },
  {
   "cell_type": "markdown",
   "id": "a25d826b",
   "metadata": {},
   "source": [
    "Its hard to tell why some of them are so informative, for example the word \"behalf\" doesn't have any positive or negative connotation to our knowledge, however words such as \"Garbage\" and \"TRASH\" do have a strong negative connotation so we might have expected to see them.\n",
    "\n",
    "The model performs even worse than VADER based approach, so maybe this dataset is not very well explainable. This might be the case because the people contributing have no cost for leaving a review, so they can say whatever they want, even if it is gibberish."
   ]
  }
 ],
 "metadata": {
  "kernelspec": {
   "display_name": "Python 3 (ipykernel)",
   "language": "python",
   "name": "python3"
  },
  "language_info": {
   "codemirror_mode": {
    "name": "ipython",
    "version": 3
   },
   "file_extension": ".py",
   "mimetype": "text/x-python",
   "name": "python",
   "nbconvert_exporter": "python",
   "pygments_lexer": "ipython3",
   "version": "3.8.13"
  }
 },
 "nbformat": 4,
 "nbformat_minor": 5
}
